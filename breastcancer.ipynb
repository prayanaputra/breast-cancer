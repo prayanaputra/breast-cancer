{
  "cells": [
    {
      "cell_type": "markdown",
      "metadata": {
        "id": "v_Y98_ukDGtn"
      },
      "source": [
        "UJIAN TENGAH SEMESTER\n",
        "\n",
        "> **Klasifikasi Kanker Payudara Menggunakan Algoritma K-Nearest Neighbors (KNN) pada Dataset Breast-W**\n",
        "\n",
        "DISUSUN OLEH\n",
        "\n",
        "1. Nama  : I Wayan Aditya Prayana Putra\n",
        "2. NIM   : 21.12.1860"
      ]
    },
    {
      "cell_type": "markdown",
      "metadata": {
        "id": "fu3g-bheDZUE"
      },
      "source": [
        "# Pra-Pemrosesan Data"
      ]
    },
    {
      "cell_type": "markdown",
      "metadata": {
        "id": "FVBwdX1ZEJK-"
      },
      "source": [
        "2. Membaca Data menggunakan library pandas"
      ]
    },
    {
      "cell_type": "code",
      "execution_count": 54,
      "metadata": {
        "colab": {
          "base_uri": "https://localhost:8080/",
          "height": 226
        },
        "id": "w5O1m6_7DtT6",
        "outputId": "0c7a59e7-454d-4318-c2dd-13e5e1e18978"
      },
      "outputs": [
        {
          "data": {
            "text/html": [
              "<div>\n",
              "<style scoped>\n",
              "    .dataframe tbody tr th:only-of-type {\n",
              "        vertical-align: middle;\n",
              "    }\n",
              "\n",
              "    .dataframe tbody tr th {\n",
              "        vertical-align: top;\n",
              "    }\n",
              "\n",
              "    .dataframe thead th {\n",
              "        text-align: right;\n",
              "    }\n",
              "</style>\n",
              "<table border=\"1\" class=\"dataframe\">\n",
              "  <thead>\n",
              "    <tr style=\"text-align: right;\">\n",
              "      <th></th>\n",
              "      <th>id</th>\n",
              "      <th>Clump_Thickness</th>\n",
              "      <th>Cell_Size_Uniformity</th>\n",
              "      <th>Cell_Shape_Uniformity</th>\n",
              "      <th>Marginal_Adhesion</th>\n",
              "      <th>Single_Epi_Cell_Size</th>\n",
              "      <th>Bare_Nuclei</th>\n",
              "      <th>Bland_Chromatin</th>\n",
              "      <th>Normal_Nucleoli</th>\n",
              "      <th>Mitoses</th>\n",
              "      <th>Class</th>\n",
              "    </tr>\n",
              "  </thead>\n",
              "  <tbody>\n",
              "    <tr>\n",
              "      <th>0</th>\n",
              "      <td>1</td>\n",
              "      <td>5</td>\n",
              "      <td>1</td>\n",
              "      <td>1</td>\n",
              "      <td>1</td>\n",
              "      <td>2</td>\n",
              "      <td>1</td>\n",
              "      <td>3</td>\n",
              "      <td>1</td>\n",
              "      <td>1</td>\n",
              "      <td>benign</td>\n",
              "    </tr>\n",
              "    <tr>\n",
              "      <th>1</th>\n",
              "      <td>2</td>\n",
              "      <td>5</td>\n",
              "      <td>4</td>\n",
              "      <td>4</td>\n",
              "      <td>5</td>\n",
              "      <td>7</td>\n",
              "      <td>10</td>\n",
              "      <td>3</td>\n",
              "      <td>2</td>\n",
              "      <td>1</td>\n",
              "      <td>benign</td>\n",
              "    </tr>\n",
              "    <tr>\n",
              "      <th>2</th>\n",
              "      <td>3</td>\n",
              "      <td>3</td>\n",
              "      <td>1</td>\n",
              "      <td>1</td>\n",
              "      <td>1</td>\n",
              "      <td>2</td>\n",
              "      <td>2</td>\n",
              "      <td>3</td>\n",
              "      <td>1</td>\n",
              "      <td>1</td>\n",
              "      <td>benign</td>\n",
              "    </tr>\n",
              "    <tr>\n",
              "      <th>3</th>\n",
              "      <td>4</td>\n",
              "      <td>6</td>\n",
              "      <td>8</td>\n",
              "      <td>8</td>\n",
              "      <td>1</td>\n",
              "      <td>3</td>\n",
              "      <td>4</td>\n",
              "      <td>3</td>\n",
              "      <td>7</td>\n",
              "      <td>1</td>\n",
              "      <td>benign</td>\n",
              "    </tr>\n",
              "    <tr>\n",
              "      <th>4</th>\n",
              "      <td>5</td>\n",
              "      <td>4</td>\n",
              "      <td>1</td>\n",
              "      <td>1</td>\n",
              "      <td>3</td>\n",
              "      <td>2</td>\n",
              "      <td>1</td>\n",
              "      <td>3</td>\n",
              "      <td>1</td>\n",
              "      <td>1</td>\n",
              "      <td>benign</td>\n",
              "    </tr>\n",
              "  </tbody>\n",
              "</table>\n",
              "</div>"
            ],
            "text/plain": [
              "   id  Clump_Thickness  Cell_Size_Uniformity  Cell_Shape_Uniformity  \\\n",
              "0   1                5                     1                      1   \n",
              "1   2                5                     4                      4   \n",
              "2   3                3                     1                      1   \n",
              "3   4                6                     8                      8   \n",
              "4   5                4                     1                      1   \n",
              "\n",
              "   Marginal_Adhesion  Single_Epi_Cell_Size Bare_Nuclei  Bland_Chromatin  \\\n",
              "0                  1                     2           1                3   \n",
              "1                  5                     7          10                3   \n",
              "2                  1                     2           2                3   \n",
              "3                  1                     3           4                3   \n",
              "4                  3                     2           1                3   \n",
              "\n",
              "   Normal_Nucleoli  Mitoses   Class  \n",
              "0                1        1  benign  \n",
              "1                2        1  benign  \n",
              "2                1        1  benign  \n",
              "3                7        1  benign  \n",
              "4                1        1  benign  "
            ]
          },
          "execution_count": 54,
          "metadata": {},
          "output_type": "execute_result"
        }
      ],
      "source": [
        "import pandas as pd\n",
        "\n",
        "# Membaca dataset yang terdapat pada drive menggunakan pandas as pd\n",
        "df = pd.read_csv('breastcancer.csv')\n",
        "df.head()"
      ]
    },
    {
      "cell_type": "code",
      "execution_count": 55,
      "metadata": {
        "colab": {
          "base_uri": "https://localhost:8080/"
        },
        "id": "tMBWA8s_Fat4",
        "outputId": "3edda7c3-bd54-46df-87b3-4fcb499557a5"
      },
      "outputs": [
        {
          "name": "stdout",
          "output_type": "stream",
          "text": [
            "<class 'pandas.core.frame.DataFrame'>\n",
            "RangeIndex: 699 entries, 0 to 698\n",
            "Data columns (total 11 columns):\n",
            " #   Column                 Non-Null Count  Dtype \n",
            "---  ------                 --------------  ----- \n",
            " 0   id                     699 non-null    int64 \n",
            " 1   Clump_Thickness        699 non-null    int64 \n",
            " 2   Cell_Size_Uniformity   699 non-null    int64 \n",
            " 3   Cell_Shape_Uniformity  699 non-null    int64 \n",
            " 4   Marginal_Adhesion      699 non-null    int64 \n",
            " 5   Single_Epi_Cell_Size   699 non-null    int64 \n",
            " 6   Bare_Nuclei            699 non-null    object\n",
            " 7   Bland_Chromatin        699 non-null    int64 \n",
            " 8   Normal_Nucleoli        699 non-null    int64 \n",
            " 9   Mitoses                699 non-null    int64 \n",
            " 10  Class                  699 non-null    object\n",
            "dtypes: int64(9), object(2)\n",
            "memory usage: 60.2+ KB\n"
          ]
        }
      ],
      "source": [
        "# Menampilkan informasi ringkasan tentang DataFrame df, termasuk tipe data\n",
        "df.info()"
      ]
    },
    {
      "cell_type": "code",
      "execution_count": 56,
      "metadata": {
        "colab": {
          "base_uri": "https://localhost:8080/"
        },
        "id": "dJm3-L8jYKEr",
        "outputId": "ce84c855-4d2c-4ff7-dfdd-fa4588379060"
      },
      "outputs": [
        {
          "name": "stdout",
          "output_type": "stream",
          "text": [
            "<class 'pandas.core.frame.DataFrame'>\n",
            "RangeIndex: 699 entries, 0 to 698\n",
            "Data columns (total 11 columns):\n",
            " #   Column                 Non-Null Count  Dtype  \n",
            "---  ------                 --------------  -----  \n",
            " 0   id                     699 non-null    int64  \n",
            " 1   Clump_Thickness        699 non-null    int64  \n",
            " 2   Cell_Size_Uniformity   699 non-null    int64  \n",
            " 3   Cell_Shape_Uniformity  699 non-null    int64  \n",
            " 4   Marginal_Adhesion      699 non-null    int64  \n",
            " 5   Single_Epi_Cell_Size   699 non-null    int64  \n",
            " 6   Bare_Nuclei            683 non-null    float64\n",
            " 7   Bland_Chromatin        699 non-null    int64  \n",
            " 8   Normal_Nucleoli        699 non-null    int64  \n",
            " 9   Mitoses                699 non-null    int64  \n",
            " 10  Class                  699 non-null    object \n",
            "dtypes: float64(1), int64(9), object(1)\n",
            "memory usage: 60.2+ KB\n"
          ]
        }
      ],
      "source": [
        "# Mengkonversi kolom 'Bare_Nuclei' dalam DataFrame df ke tipe data numerik\n",
        "# Nilai yang tidak dapat dikonversi akan diubah menjadi NaN\n",
        "df['Bare_Nuclei'] = pd.to_numeric(df.Bare_Nuclei, errors=\"coerce\")\n",
        "\n",
        "# Menampilkan informasi ringkasan tentang DataFrame df, termasuk tipe data\n",
        "df.info()"
      ]
    },
    {
      "cell_type": "markdown",
      "metadata": {
        "id": "2aXpOfcNEOFF"
      },
      "source": [
        "3. Pengecekan Missing Values"
      ]
    },
    {
      "cell_type": "code",
      "execution_count": 57,
      "metadata": {
        "colab": {
          "base_uri": "https://localhost:8080/"
        },
        "id": "XuiOIRB9DycK",
        "outputId": "b54d8c0e-bd78-4042-f73f-4393fcc1b4c3"
      },
      "outputs": [
        {
          "name": "stdout",
          "output_type": "stream",
          "text": [
            "DataFrame:\n",
            "      id  Clump_Thickness  Cell_Size_Uniformity  Cell_Shape_Uniformity  \\\n",
            "0      1                5                     1                      1   \n",
            "1      2                5                     4                      4   \n",
            "2      3                3                     1                      1   \n",
            "3      4                6                     8                      8   \n",
            "4      5                4                     1                      1   \n",
            "..   ...              ...                   ...                    ...   \n",
            "694  695                3                     1                      1   \n",
            "695  696                2                     1                      1   \n",
            "696  697                5                    10                     10   \n",
            "697  698                4                     8                      6   \n",
            "698  699                4                     8                      8   \n",
            "\n",
            "     Marginal_Adhesion  Single_Epi_Cell_Size  Bare_Nuclei  Bland_Chromatin  \\\n",
            "0                    1                     2          1.0                3   \n",
            "1                    5                     7         10.0                3   \n",
            "2                    1                     2          2.0                3   \n",
            "3                    1                     3          4.0                3   \n",
            "4                    3                     2          1.0                3   \n",
            "..                 ...                   ...          ...              ...   \n",
            "694                  1                     3          2.0                1   \n",
            "695                  1                     2          1.0                1   \n",
            "696                  3                     7          3.0                8   \n",
            "697                  4                     3          4.0               10   \n",
            "698                  5                     4          5.0               10   \n",
            "\n",
            "     Normal_Nucleoli  Mitoses      Class  \n",
            "0                  1        1     benign  \n",
            "1                  2        1     benign  \n",
            "2                  1        1     benign  \n",
            "3                  7        1     benign  \n",
            "4                  1        1     benign  \n",
            "..               ...      ...        ...  \n",
            "694                1        1     benign  \n",
            "695                1        1     benign  \n",
            "696               10        2  malignant  \n",
            "697                6        1  malignant  \n",
            "698                4        1  malignant  \n",
            "\n",
            "[699 rows x 11 columns]\n",
            "Jumlah Missing Values per Kolom:\n",
            "id                        0\n",
            "Clump_Thickness           0\n",
            "Cell_Size_Uniformity      0\n",
            "Cell_Shape_Uniformity     0\n",
            "Marginal_Adhesion         0\n",
            "Single_Epi_Cell_Size      0\n",
            "Bare_Nuclei              16\n",
            "Bland_Chromatin           0\n",
            "Normal_Nucleoli           0\n",
            "Mitoses                   0\n",
            "Class                     0\n",
            "dtype: int64\n"
          ]
        }
      ],
      "source": [
        "import numpy as np\n",
        "import pandas as pd\n",
        "from sklearn.impute import SimpleImputer\n",
        "\n",
        "# Membaca file CSV berdasarkan data df yang sudah dipanggil diatas dan dimasukan ke variable baru\n",
        "cardata = df\n",
        "\n",
        "# Menampilkan DataFrame\n",
        "print(\"DataFrame:\")\n",
        "print(cardata)\n",
        "\n",
        "# Menampilkan Jumlah Missing Values per Kolom\n",
        "print(\"Jumlah Missing Values per Kolom:\")\n",
        "print(cardata.isnull().sum())"
      ]
    },
    {
      "cell_type": "code",
      "execution_count": 58,
      "metadata": {
        "id": "68mUE61lYnC6"
      },
      "outputs": [],
      "source": [
        "# Menghapus semua baris dalam DataFrame df yang mengandung nilai NaN\n",
        "# inplace=True berarti perubahan akan diterapkan langsung pada DataFrame df\n",
        "df.dropna(inplace=True)"
      ]
    },
    {
      "cell_type": "code",
      "execution_count": 59,
      "metadata": {
        "colab": {
          "base_uri": "https://localhost:8080/"
        },
        "id": "w28N2NHG5Zk5",
        "outputId": "93e2909f-98f9-4454-88d2-071a3b29e31c"
      },
      "outputs": [
        {
          "name": "stdout",
          "output_type": "stream",
          "text": [
            "      id  Clump_Thickness  Cell_Size_Uniformity  Cell_Shape_Uniformity  \\\n",
            "0      1                5                     1                      1   \n",
            "1      2                5                     4                      4   \n",
            "2      3                3                     1                      1   \n",
            "3      4                6                     8                      8   \n",
            "4      5                4                     1                      1   \n",
            "..   ...              ...                   ...                    ...   \n",
            "694  695                3                     1                      1   \n",
            "695  696                2                     1                      1   \n",
            "696  697                5                    10                     10   \n",
            "697  698                4                     8                      6   \n",
            "698  699                4                     8                      8   \n",
            "\n",
            "     Marginal_Adhesion  Single_Epi_Cell_Size  Bare_Nuclei  Bland_Chromatin  \\\n",
            "0                    1                     2          1.0                3   \n",
            "1                    5                     7         10.0                3   \n",
            "2                    1                     2          2.0                3   \n",
            "3                    1                     3          4.0                3   \n",
            "4                    3                     2          1.0                3   \n",
            "..                 ...                   ...          ...              ...   \n",
            "694                  1                     3          2.0                1   \n",
            "695                  1                     2          1.0                1   \n",
            "696                  3                     7          3.0                8   \n",
            "697                  4                     3          4.0               10   \n",
            "698                  5                     4          5.0               10   \n",
            "\n",
            "     Normal_Nucleoli  Mitoses      Class  \n",
            "0                  1        1     benign  \n",
            "1                  2        1     benign  \n",
            "2                  1        1     benign  \n",
            "3                  7        1     benign  \n",
            "4                  1        1     benign  \n",
            "..               ...      ...        ...  \n",
            "694                1        1     benign  \n",
            "695                1        1     benign  \n",
            "696               10        2  malignant  \n",
            "697                6        1  malignant  \n",
            "698                4        1  malignant  \n",
            "\n",
            "[683 rows x 11 columns]\n",
            "Jumlah Missing Values per Kolom:\n",
            "id                       0\n",
            "Clump_Thickness          0\n",
            "Cell_Size_Uniformity     0\n",
            "Cell_Shape_Uniformity    0\n",
            "Marginal_Adhesion        0\n",
            "Single_Epi_Cell_Size     0\n",
            "Bare_Nuclei              0\n",
            "Bland_Chromatin          0\n",
            "Normal_Nucleoli          0\n",
            "Mitoses                  0\n",
            "Class                    0\n",
            "dtype: int64\n"
          ]
        }
      ],
      "source": [
        "# Membaca file CSV berdasarkan data df yang sudah dipanggil diatas dan dimasukan ke variable baru\n",
        "cardata = df\n",
        "\n",
        "# Menampilkan DataFrame\n",
        "print(cardata)\n",
        "\n",
        "# Menampilkan Jumlah Missing Values per Kolom\n",
        "print(\"Jumlah Missing Values per Kolom:\")\n",
        "print(cardata.isnull().sum())"
      ]
    },
    {
      "cell_type": "markdown",
      "metadata": {
        "id": "e8NE-KylESQW"
      },
      "source": [
        "4. Pengecekan Duplikasi Data"
      ]
    },
    {
      "cell_type": "code",
      "execution_count": 60,
      "metadata": {
        "colab": {
          "base_uri": "https://localhost:8080/"
        },
        "id": "NRxjkslBEC7-",
        "outputId": "23a52db0-2d13-41c3-9ac0-a829af4d1b36"
      },
      "outputs": [
        {
          "name": "stdout",
          "output_type": "stream",
          "text": [
            "Baris yang merupakan duplikat:\n",
            "0      False\n",
            "1      False\n",
            "2      False\n",
            "3      False\n",
            "4      False\n",
            "       ...  \n",
            "694    False\n",
            "695    False\n",
            "696    False\n",
            "697    False\n",
            "698    False\n",
            "Length: 683, dtype: bool\n",
            "Total data duplikat dalam dataset : 0\n"
          ]
        }
      ],
      "source": [
        "# Mengecek duplikasi\n",
        "duplicates = df.duplicated()\n",
        "\n",
        "# Menampilkan hasil pengecekan\n",
        "print(\"Baris yang merupakan duplikat:\")\n",
        "print(duplicates)\n",
        "\n",
        "total_duplicates = duplicates.sum()\n",
        "print(\"Total data duplikat dalam dataset :\", total_duplicates)"
      ]
    },
    {
      "cell_type": "markdown",
      "metadata": {
        "id": "GUFlXbsjIA3_"
      },
      "source": [
        "4. Imbalanced Class"
      ]
    },
    {
      "cell_type": "code",
      "execution_count": 61,
      "metadata": {
        "colab": {
          "base_uri": "https://localhost:8080/",
          "height": 1000
        },
        "id": "b6XUgBEjH72g",
        "outputId": "f6b8696f-21aa-4b6d-e16c-b6e5bdf02a42"
      },
      "outputs": [
        {
          "name": "stdout",
          "output_type": "stream",
          "text": [
            "Class\n",
            "benign       444\n",
            "malignant    239\n",
            "Name: count, dtype: int64\n"
          ]
        },
        {
          "data": {
            "image/png": "[encoded data removed]",
            "text/plain": [
              "<Figure size 640x480 with 1 Axes>"
            ]
          },
          "metadata": {},
          "output_type": "display_data"
        },
        {
          "data": {
            "image/png": "[encoded data removed]",
            "text/plain": [
              "<Figure size 640x480 with 1 Axes>"
            ]
          },
          "metadata": {},
          "output_type": "display_data"
        },
        {
          "name": "stdout",
          "output_type": "stream",
          "text": [
            "Counter({'benign': 444, 'malignant': 239})\n",
            "Imbalance Ratio: 1.86\n"
          ]
        }
      ],
      "source": [
        "import matplotlib.pyplot as plt\n",
        "import seaborn as sns\n",
        "from collections import Counter\n",
        "\n",
        "# Mengecek distribusi kelas dengan value_counts()\n",
        "class_distribution = df['Class'].value_counts()\n",
        "print(class_distribution)\n",
        "\n",
        "# Visualisasi distribusi kelas dengan Matplotlib\n",
        "class_distribution.plot(kind='bar')\n",
        "plt.title('Distribusi Kelas')\n",
        "plt.xlabel('Kelas')\n",
        "plt.ylabel('Jumlah')\n",
        "plt.show()\n",
        "\n",
        "# Visualisasi distribusi kelas dengan Seaborn\n",
        "sns.countplot(x='Class', data=df)\n",
        "plt.title('Distribusi Kelas')\n",
        "plt.show()\n",
        "\n",
        "# Menggunakan collections.Counter untuk menghitung distribusi kelas\n",
        "class_distribution_counter = Counter(df['Class'])\n",
        "print(class_distribution_counter)\n",
        "\n",
        "# Menghitung rasio ketidakseimbangan\n",
        "if len(class_distribution) > 1:\n",
        "    imbalance_ratio = class_distribution[0] / class_distribution[1]\n",
        "    print(f\"Imbalance Ratio: {imbalance_ratio:.2f}\")\n",
        "else:\n",
        "    print(\"Hanya Ada satu kelas dalam dataset.\")"
      ]
    },
    {
      "cell_type": "code",
      "execution_count": 62,
      "metadata": {
        "colab": {
          "base_uri": "https://localhost:8080/"
        },
        "id": "EV_2Gu09ZF--",
        "outputId": "6ff62e6d-2f37-4a04-bdd4-d17eb501ad43"
      },
      "outputs": [
        {
          "name": "stdout",
          "output_type": "stream",
          "text": [
            "DataFrame setelah transformasi:\n",
            "   Clump_Thickness  Cell_Size_Uniformity  Cell_Shape_Uniformity  \\\n",
            "0                5                     1                      1   \n",
            "1                5                     4                      4   \n",
            "2                3                     1                      1   \n",
            "3                6                     8                      8   \n",
            "4                4                     1                      1   \n",
            "\n",
            "   Marginal_Adhesion  Single_Epi_Cell_Size  Bare_Nuclei  Bland_Chromatin  \\\n",
            "0                  1                     2          1.0                3   \n",
            "1                  5                     7         10.0                3   \n",
            "2                  1                     2          2.0                3   \n",
            "3                  1                     3          4.0                3   \n",
            "4                  3                     2          1.0                3   \n",
            "\n",
            "   Normal_Nucleoli  Mitoses  Class  \n",
            "0                1        1      0  \n",
            "1                2        1      0  \n",
            "2                1        1      0  \n",
            "3                7        1      0  \n",
            "4                1        1      0  \n"
          ]
        }
      ],
      "source": [
        "import pandas as pd\n",
        "\n",
        "# Fungsi untuk mengubah teks menjadi angka 0 dan 1\n",
        "def text_to_binary(text):\n",
        "    if text.lower() == 'benign':\n",
        "        return 0\n",
        "    elif text.lower() == 'malignant':\n",
        "        return 1\n",
        "    else:\n",
        "        raise ValueError(\"Input tidak valid, harus 'benign' atau 'malignant'.\")\n",
        "\n",
        "# Membuat DataFrame dari data\n",
        "df = pd.DataFrame(df)\n",
        "\n",
        "# Menghapus kolom 'id' dari DataFrame df\n",
        "df.drop(columns='id', inplace=True)\n",
        "\n",
        "# Menggunakan fungsi text_to_binary untuk mengubah kolom 'Class' menjadi angka\n",
        "df['Class'] = df['Class'].apply(text_to_binary)\n",
        "\n",
        "# Menampilkan lima baris pertama dari DataFrame\n",
        "print(\"DataFrame setelah transformasi:\")\n",
        "print(df.head())\n"
      ]
    },
    {
      "cell_type": "markdown",
      "metadata": {
        "id": "DiyM9ZwKElI5"
      },
      "source": [
        "# Pemodelan"
      ]
    },
    {
      "cell_type": "markdown",
      "metadata": {
        "id": "0kIhHjEUEoaF"
      },
      "source": [
        "1. Import Library"
      ]
    },
    {
      "cell_type": "code",
      "execution_count": 63,
      "metadata": {
        "id": "GtwyWDVbEneU"
      },
      "outputs": [],
      "source": [
        "# Import Library yang dibutuhkan\n",
        "import numpy as np\n",
        "import seaborn as sns\n",
        "import matplotlib.pyplot as plt\n",
        "from collections import Counter\n",
        "from imblearn.datasets import fetch_datasets\n",
        "from sklearn.model_selection import train_test_split\n",
        "from sklearn.neighbors import KNeighborsClassifier\n",
        "from sklearn import svm\n",
        "from sklearn.svm import SVC\n",
        "from sklearn.svm import LinearSVC\n",
        "from sklearn import tree\n",
        "from sklearn.tree import DecisionTreeClassifier\n",
        "from sklearn.naive_bayes import GaussianNB\n",
        "from sklearn.pipeline import make_pipeline\n",
        "from sklearn.preprocessing import StandardScaler\n",
        "from sklearn.metrics import mean_squared_error, r2_score, accuracy_score\n",
        "from sklearn.metrics import accuracy_score, classification_report, confusion_matrix\n",
        "from imblearn.metrics import classification_report_imbalanced"
      ]
    },
    {
      "cell_type": "markdown",
      "metadata": {
        "id": "26yCONEzW6XK"
      },
      "source": [
        "2. Menentukan Variabel Atribut dan Kelas"
      ]
    },
    {
      "cell_type": "code",
      "execution_count": 64,
      "metadata": {
        "colab": {
          "base_uri": "https://localhost:8080/",
          "height": 206
        },
        "id": "8988UIJzQ2hf",
        "outputId": "d9e2f134-639b-4b54-a21d-d2097d4829b6"
      },
      "outputs": [
        {
          "data": {
            "text/html": [
              "<div>\n",
              "<style scoped>\n",
              "    .dataframe tbody tr th:only-of-type {\n",
              "        vertical-align: middle;\n",
              "    }\n",
              "\n",
              "    .dataframe tbody tr th {\n",
              "        vertical-align: top;\n",
              "    }\n",
              "\n",
              "    .dataframe thead th {\n",
              "        text-align: right;\n",
              "    }\n",
              "</style>\n",
              "<table border=\"1\" class=\"dataframe\">\n",
              "  <thead>\n",
              "    <tr style=\"text-align: right;\">\n",
              "      <th></th>\n",
              "      <th>Class</th>\n",
              "    </tr>\n",
              "  </thead>\n",
              "  <tbody>\n",
              "    <tr>\n",
              "      <th>0</th>\n",
              "      <td>0</td>\n",
              "    </tr>\n",
              "    <tr>\n",
              "      <th>1</th>\n",
              "      <td>0</td>\n",
              "    </tr>\n",
              "    <tr>\n",
              "      <th>2</th>\n",
              "      <td>0</td>\n",
              "    </tr>\n",
              "    <tr>\n",
              "      <th>3</th>\n",
              "      <td>0</td>\n",
              "    </tr>\n",
              "    <tr>\n",
              "      <th>4</th>\n",
              "      <td>0</td>\n",
              "    </tr>\n",
              "  </tbody>\n",
              "</table>\n",
              "</div>"
            ],
            "text/plain": [
              "   Class\n",
              "0      0\n",
              "1      0\n",
              "2      0\n",
              "3      0\n",
              "4      0"
            ]
          },
          "execution_count": 64,
          "metadata": {},
          "output_type": "execute_result"
        }
      ],
      "source": [
        "# Menentukan Variabel X (Fitur/Atribut) dan Variabel y (Kelas/Label)\n",
        "\n",
        "X= df.drop(columns = 'Class').copy()\n",
        "y= df['Class']\n",
        "\n",
        "pd.DataFrame(y).head()"
      ]
    },
    {
      "cell_type": "markdown",
      "metadata": {
        "id": "vwOlfK0nWtdX"
      },
      "source": [
        "3. Membagi Data untuk pengujian"
      ]
    },
    {
      "cell_type": "code",
      "execution_count": 65,
      "metadata": {
        "id": "oLmoKo6IRev1"
      },
      "outputs": [],
      "source": [
        "# Membagi data menjadi data training dan data testing\n",
        "# Data untuk testing 20%, data untuk training 80%\n",
        "\n",
        "X_train, X_test, y_train, y_test = train_test_split(X, y, test_size = 0.20, random_state = 42)"
      ]
    },
    {
      "cell_type": "markdown",
      "metadata": {
        "id": "2lHJu4-SW_So"
      },
      "source": [
        "4. Melakukan Normalisasi Data"
      ]
    },
    {
      "cell_type": "code",
      "execution_count": 66,
      "metadata": {
        "colab": {
          "base_uri": "https://localhost:8080/"
        },
        "id": "bv9RDh90s6C9",
        "outputId": "f510a964-b7db-4ef2-8443-1ed25c784073"
      },
      "outputs": [
        {
          "name": "stdout",
          "output_type": "stream",
          "text": [
            "X_train setelah normalisasi:\n",
            " [[-0.51298931 -0.6898418  -0.72955852  0.06158008 -0.544251   -0.68063032\n",
            "  -0.9722168  -0.59477431 -0.33906568]\n",
            " [ 0.93638799  1.9303573   0.25969385  2.51323683  3.13007417 -0.12925917\n",
            "   0.70762615  0.08390233  0.8869599 ]\n",
            " [ 0.21169934 -0.36231691  0.25969385 -0.63889328 -1.00354165 -0.68063032\n",
            "  -0.9722168  -0.59477431 -0.33906568]\n",
            " [ 2.02342097  1.27530753  1.24894622  1.11229011  0.37433029  1.80053987\n",
            "   0.28766541 -0.59477431  0.27394711]\n",
            " [-0.87533364 -0.6898418  -0.72955852 -0.63889328 -0.544251   -0.68063032\n",
            "  -0.13229532 -0.59477431 -0.33906568]]\n",
            "X_test setelah normalisasi:\n",
            " [[ 1.29873232 -0.03479202  0.25969385  2.16300015 -0.08496036  1.80053987\n",
            "  -0.13229532  0.08390233 -0.33906568]\n",
            " [ 1.29873232  1.60283242  1.24894622  0.41181676  3.13007417  1.80053987\n",
            "   1.54754763  1.78059394  3.33901106]\n",
            " [-1.23767796 -0.6898418  -0.72955852 -0.63889328 -0.544251   -0.68063032\n",
            "  -0.13229532 -0.59477431 -0.33906568]\n",
            " [-1.23767796 -0.6898418  -0.39980773 -0.2886566  -0.544251   -0.68063032\n",
            "  -0.13229532 -0.59477431 -0.33906568]\n",
            " [-1.23767796 -0.6898418  -0.72955852 -0.63889328 -1.00354165 -0.68063032\n",
            "  -0.55225606 -0.59477431 -0.33906568]]\n"
          ]
        }
      ],
      "source": [
        "# Normalisasi fitur menggunakan StandardScaler\n",
        "scaler = StandardScaler()\n",
        "X_train = scaler.fit_transform(X_train)\n",
        "X_test = scaler.transform(X_test)\n",
        "\n",
        "# Mengecek hasil normalisasi\n",
        "print(\"X_train setelah normalisasi:\\n\", X_train[:5])\n",
        "print(\"X_test setelah normalisasi:\\n\", X_test[:5])"
      ]
    },
    {
      "cell_type": "markdown",
      "metadata": {
        "id": "yr9erjRPXCsQ"
      },
      "source": [
        "5. Pembuatan Model"
      ]
    },
    {
      "cell_type": "code",
      "execution_count": 67,
      "metadata": {
        "colab": {
          "base_uri": "https://localhost:8080/",
          "height": 74
        },
        "id": "NCM9w-XhRnWR",
        "outputId": "bb77de3f-17da-473e-bc86-71e2a3b89d89"
      },
      "outputs": [
        {
          "data": {
            "text/html": [
              "<style>#sk-container-id-3 {color: black;background-color: white;}#sk-container-id-3 pre{padding: 0;}#sk-container-id-3 div.sk-toggleable {background-color: white;}#sk-container-id-3 label.sk-toggleable__label {cursor: pointer;display: block;width: 100%;margin-bottom: 0;padding: 0.3em;box-sizing: border-box;text-align: center;}#sk-container-id-3 label.sk-toggleable__label-arrow:before {content: \"▸\";float: left;margin-right: 0.25em;color: #696969;}#sk-container-id-3 label.sk-toggleable__label-arrow:hover:before {color: black;}#sk-container-id-3 div.sk-estimator:hover label.sk-toggleable__label-arrow:before {color: black;}#sk-container-id-3 div.sk-toggleable__content {max-height: 0;max-width: 0;overflow: hidden;text-align: left;background-color: #f0f8ff;}#sk-container-id-3 div.sk-toggleable__content pre {margin: 0.2em;color: black;border-radius: 0.25em;background-color: #f0f8ff;}#sk-container-id-3 input.sk-toggleable__control:checked~div.sk-toggleable__content {max-height: 200px;max-width: 100%;overflow: auto;}#sk-container-id-3 input.sk-toggleable__control:checked~label.sk-toggleable__label-arrow:before {content: \"▾\";}#sk-container-id-3 div.sk-estimator input.sk-toggleable__control:checked~label.sk-toggleable__label {background-color: #d4ebff;}#sk-container-id-3 div.sk-label input.sk-toggleable__control:checked~label.sk-toggleable__label {background-color: #d4ebff;}#sk-container-id-3 input.sk-hidden--visually {border: 0;clip: rect(1px 1px 1px 1px);clip: rect(1px, 1px, 1px, 1px);height: 1px;margin: -1px;overflow: hidden;padding: 0;position: absolute;width: 1px;}#sk-container-id-3 div.sk-estimator {font-family: monospace;background-color: #f0f8ff;border: 1px dotted black;border-radius: 0.25em;box-sizing: border-box;margin-bottom: 0.5em;}#sk-container-id-3 div.sk-estimator:hover {background-color: #d4ebff;}#sk-container-id-3 div.sk-parallel-item::after {content: \"\";width: 100%;border-bottom: 1px solid gray;flex-grow: 1;}#sk-container-id-3 div.sk-label:hover label.sk-toggleable__label {background-color: #d4ebff;}#sk-container-id-3 div.sk-serial::before {content: \"\";position: absolute;border-left: 1px solid gray;box-sizing: border-box;top: 0;bottom: 0;left: 50%;z-index: 0;}#sk-container-id-3 div.sk-serial {display: flex;flex-direction: column;align-items: center;background-color: white;padding-right: 0.2em;padding-left: 0.2em;position: relative;}#sk-container-id-3 div.sk-item {position: relative;z-index: 1;}#sk-container-id-3 div.sk-parallel {display: flex;align-items: stretch;justify-content: center;background-color: white;position: relative;}#sk-container-id-3 div.sk-item::before, #sk-container-id-3 div.sk-parallel-item::before {content: \"\";position: absolute;border-left: 1px solid gray;box-sizing: border-box;top: 0;bottom: 0;left: 50%;z-index: -1;}#sk-container-id-3 div.sk-parallel-item {display: flex;flex-direction: column;z-index: 1;position: relative;background-color: white;}#sk-container-id-3 div.sk-parallel-item:first-child::after {align-self: flex-end;width: 50%;}#sk-container-id-3 div.sk-parallel-item:last-child::after {align-self: flex-start;width: 50%;}#sk-container-id-3 div.sk-parallel-item:only-child::after {width: 0;}#sk-container-id-3 div.sk-dashed-wrapped {border: 1px dashed gray;margin: 0 0.4em 0.5em 0.4em;box-sizing: border-box;padding-bottom: 0.4em;background-color: white;}#sk-container-id-3 div.sk-label label {font-family: monospace;font-weight: bold;display: inline-block;line-height: 1.2em;}#sk-container-id-3 div.sk-label-container {text-align: center;}#sk-container-id-3 div.sk-container {/* jupyter's `normalize.less` sets `[hidden] { display: none; }` but bootstrap.min.css set `[hidden] { display: none !important; }` so we also need the `!important` here to be able to override the default hidden behavior on the sphinx rendered scikit-learn.org. See: https://github.com/scikit-learn/scikit-learn/issues/21755 */display: inline-block !important;position: relative;}#sk-container-id-3 div.sk-text-repr-fallback {display: none;}</style><div id=\"sk-container-id-3\" class=\"sk-top-container\"><div class=\"sk-text-repr-fallback\"><pre>KNeighborsClassifier(n_neighbors=3)</pre><b>In a Jupyter environment, please rerun this cell to show the HTML representation or trust the notebook. <br />On GitHub, the HTML representation is unable to render, please try loading this page with nbviewer.org.</b></div><div class=\"sk-container\" hidden><div class=\"sk-item\"><div class=\"sk-estimator sk-toggleable\"><input class=\"sk-toggleable__control sk-hidden--visually\" id=\"sk-estimator-id-3\" type=\"checkbox\" checked><label for=\"sk-estimator-id-3\" class=\"sk-toggleable__label sk-toggleable__label-arrow\">KNeighborsClassifier</label><div class=\"sk-toggleable__content\"><pre>KNeighborsClassifier(n_neighbors=3)</pre></div></div></div></div></div>"
            ],
            "text/plain": [
              "KNeighborsClassifier(n_neighbors=3)"
            ]
          },
          "execution_count": 67,
          "metadata": {},
          "output_type": "execute_result"
        }
      ],
      "source": [
        "# Inisiasi Model\n",
        "model = KNeighborsClassifier(n_neighbors=3)\n",
        "\n",
        "# Training model dengan .fit()\n",
        "model.fit(X_train, y_train)"
      ]
    },
    {
      "cell_type": "markdown",
      "metadata": {
        "id": "fo9qTkbyXGJC"
      },
      "source": [
        "6. Melakukan Prediksi pada data Test"
      ]
    },
    {
      "cell_type": "code",
      "execution_count": 68,
      "metadata": {
        "colab": {
          "base_uri": "https://localhost:8080/"
        },
        "id": "vcRflAePaB92",
        "outputId": "58505724-2edc-4419-fe47-b845788c74ee"
      },
      "outputs": [
        {
          "data": {
            "text/plain": [
              "array([1, 1, 0, 0, 0, 0, 0, 0, 1, 0, 0, 0, 0, 0, 0, 1, 0, 1, 0, 1, 1, 0,\n",
              "       1, 0, 0, 0, 1, 1, 0, 0, 0, 1, 1, 1, 0, 0, 1, 0, 1, 1, 0, 1, 1, 0,\n",
              "       0, 1, 0, 1, 0, 1, 0, 0, 0, 1, 0, 1, 1, 0, 0, 1, 0, 0, 0, 1, 0, 0,\n",
              "       1, 1, 0, 0, 1, 0, 0, 0, 1, 1, 0, 0, 1, 1, 1, 1, 0, 1, 0, 1, 0, 0,\n",
              "       1, 0, 0, 1, 0, 0, 0, 0, 1, 1, 0, 0, 0, 0, 1, 0, 1, 0, 0, 0, 1, 0,\n",
              "       1, 1, 1, 0, 0, 0, 1, 0, 0, 0, 1, 1, 0, 0, 0, 0, 1, 0, 1, 0, 0, 0,\n",
              "       1, 1, 1, 0, 0], dtype=int64)"
            ]
          },
          "execution_count": 68,
          "metadata": {},
          "output_type": "execute_result"
        }
      ],
      "source": [
        "# Prediksi pada data test\n",
        "\n",
        "y_pred = model.predict(X_test)\n",
        "y_pred"
      ]
    },
    {
      "cell_type": "code",
      "execution_count": 69,
      "metadata": {
        "colab": {
          "base_uri": "https://localhost:8080/"
        },
        "id": "zCCmZJRuaIYa",
        "outputId": "5879ec78-af4f-4b6b-954d-8bb3cba16a9c"
      },
      "outputs": [
        {
          "data": {
            "text/plain": [
              "304    1\n",
              "149    1\n",
              "217    0\n",
              "120    0\n",
              "314    0\n",
              "      ..\n",
              "112    1\n",
              "84     1\n",
              "53     1\n",
              "216    0\n",
              "563    0\n",
              "Name: Class, Length: 137, dtype: int64"
            ]
          },
          "execution_count": 69,
          "metadata": {},
          "output_type": "execute_result"
        }
      ],
      "source": [
        "y_test"
      ]
    },
    {
      "cell_type": "markdown",
      "metadata": {
        "id": "OnVNCgWTXJ80"
      },
      "source": [
        "7. Melakukan Pengecekan Akurasi Prediksi"
      ]
    },
    {
      "cell_type": "code",
      "execution_count": 70,
      "metadata": {
        "colab": {
          "base_uri": "https://localhost:8080/"
        },
        "id": "45T4GSTYajCu",
        "outputId": "85a0a15f-5ac1-4986-9809-afc2ff7df715"
      },
      "outputs": [
        {
          "name": "stdout",
          "output_type": "stream",
          "text": [
            "KNN Test Score: 96.35%\n"
          ]
        }
      ],
      "source": [
        "model_score = model.score(X_test, y_test)\n",
        "print(\"KNN Test Score: {:.2f}%\".format(model_score * 100))"
      ]
    },
    {
      "cell_type": "code",
      "execution_count": 71,
      "metadata": {
        "colab": {
          "base_uri": "https://localhost:8080/",
          "height": 423
        },
        "id": "abGBg_O0aO17",
        "outputId": "0a490168-20ce-465d-bae3-ab2897d3370f"
      },
      "outputs": [
        {
          "data": {
            "text/html": [
              "<div>\n",
              "<style scoped>\n",
              "    .dataframe tbody tr th:only-of-type {\n",
              "        vertical-align: middle;\n",
              "    }\n",
              "\n",
              "    .dataframe tbody tr th {\n",
              "        vertical-align: top;\n",
              "    }\n",
              "\n",
              "    .dataframe thead th {\n",
              "        text-align: right;\n",
              "    }\n",
              "</style>\n",
              "<table border=\"1\" class=\"dataframe\">\n",
              "  <thead>\n",
              "    <tr style=\"text-align: right;\">\n",
              "      <th></th>\n",
              "      <th>Prediksi</th>\n",
              "      <th>Aktual</th>\n",
              "    </tr>\n",
              "  </thead>\n",
              "  <tbody>\n",
              "    <tr>\n",
              "      <th>304</th>\n",
              "      <td>1</td>\n",
              "      <td>1</td>\n",
              "    </tr>\n",
              "    <tr>\n",
              "      <th>149</th>\n",
              "      <td>1</td>\n",
              "      <td>1</td>\n",
              "    </tr>\n",
              "    <tr>\n",
              "      <th>217</th>\n",
              "      <td>0</td>\n",
              "      <td>0</td>\n",
              "    </tr>\n",
              "    <tr>\n",
              "      <th>120</th>\n",
              "      <td>0</td>\n",
              "      <td>0</td>\n",
              "    </tr>\n",
              "    <tr>\n",
              "      <th>314</th>\n",
              "      <td>0</td>\n",
              "      <td>0</td>\n",
              "    </tr>\n",
              "    <tr>\n",
              "      <th>...</th>\n",
              "      <td>...</td>\n",
              "      <td>...</td>\n",
              "    </tr>\n",
              "    <tr>\n",
              "      <th>112</th>\n",
              "      <td>1</td>\n",
              "      <td>1</td>\n",
              "    </tr>\n",
              "    <tr>\n",
              "      <th>84</th>\n",
              "      <td>1</td>\n",
              "      <td>1</td>\n",
              "    </tr>\n",
              "    <tr>\n",
              "      <th>53</th>\n",
              "      <td>1</td>\n",
              "      <td>1</td>\n",
              "    </tr>\n",
              "    <tr>\n",
              "      <th>216</th>\n",
              "      <td>0</td>\n",
              "      <td>0</td>\n",
              "    </tr>\n",
              "    <tr>\n",
              "      <th>563</th>\n",
              "      <td>0</td>\n",
              "      <td>0</td>\n",
              "    </tr>\n",
              "  </tbody>\n",
              "</table>\n",
              "<p>137 rows × 2 columns</p>\n",
              "</div>"
            ],
            "text/plain": [
              "     Prediksi  Aktual\n",
              "304         1       1\n",
              "149         1       1\n",
              "217         0       0\n",
              "120         0       0\n",
              "314         0       0\n",
              "..        ...     ...\n",
              "112         1       1\n",
              "84          1       1\n",
              "53          1       1\n",
              "216         0       0\n",
              "563         0       0\n",
              "\n",
              "[137 rows x 2 columns]"
            ]
          },
          "execution_count": 71,
          "metadata": {},
          "output_type": "execute_result"
        }
      ],
      "source": [
        "# Memeriksa antara hasil prediksi dan data aktual\n",
        "\n",
        "df = pd.DataFrame({'Prediksi': y_pred, 'Aktual': y_test})\n",
        "df"
      ]
    },
    {
      "cell_type": "code",
      "execution_count": 72,
      "metadata": {
        "colab": {
          "base_uri": "https://localhost:8080/"
        },
        "id": "VLPcxWbjaXLX",
        "outputId": "194036ee-a7ba-4217-fafe-bd80871daaca"
      },
      "outputs": [
        {
          "data": {
            "text/plain": [
              "array([[78,  1],\n",
              "       [ 4, 54]], dtype=int64)"
            ]
          },
          "execution_count": 72,
          "metadata": {},
          "output_type": "execute_result"
        }
      ],
      "source": [
        "# Confusion Matrix\n",
        "conf_matrix = confusion_matrix(y_test, y_pred)\n",
        "conf_matrix"
      ]
    },
    {
      "cell_type": "markdown",
      "metadata": {
        "id": "Jq_wCnx-XWxs"
      },
      "source": [
        "8. Mencari Nilai K yang OPTIMAL"
      ]
    },
    {
      "cell_type": "code",
      "execution_count": 73,
      "metadata": {
        "id": "60KxlXdLbD39"
      },
      "outputs": [],
      "source": [
        "# Menentukan range dari jumlah tetangga yang akan diuji dalam model KNN\n",
        "k_neighbors = range(1, 15)\n",
        "\n",
        "# List untuk menyimpan akurasi pelatihan dan pengujian untuk setiap nilai k\n",
        "train_accuracy = []\n",
        "test_accuracy = []\n",
        "\n",
        "# Melakukan iterasi untuk setiap nilai k dalam range yang telah ditentukan\n",
        "for n in k_neighbors:\n",
        "    # Membuat instance KNeighborsClassifier dengan jumlah tetangga saat ini\n",
        "    m = KNeighborsClassifier(n_neighbors=n)\n",
        "\n",
        "    # Melatih model menggunakan data pelatihan\n",
        "    m.fit(X_train, y_train)\n",
        "\n",
        "    # Menghitung dan menyimpan akurasi model pada data pelatihan\n",
        "    train_accuracy.append(m.score(X_train, y_train))\n",
        "\n",
        "    # Menghitung dan menyimpan akurasi model pada data pengujian\n",
        "    test_accuracy.append(m.score(X_test, y_test))"
      ]
    },
    {
      "cell_type": "code",
      "execution_count": 74,
      "metadata": {
        "colab": {
          "base_uri": "https://localhost:8080/",
          "height": 472
        },
        "id": "GEyNVddEdQJI",
        "outputId": "994819e1-3f3b-4482-d358-7f6230dd30b4"
      },
      "outputs": [
        {
          "data": {
            "image/png": "[encoded data removed]",
            "text/plain": [
              "<Figure size 640x480 with 1 Axes>"
            ]
          },
          "metadata": {},
          "output_type": "display_data"
        }
      ],
      "source": [
        "# Memplot grafik akurasi pelatihan untuk setiap nilai k\n",
        "plt.plot(k_neighbors, train_accuracy, label=\"Training Accuracy\", marker='o', linestyle='-')\n",
        "\n",
        "# Memplot grafik akurasi pengujian untuk setiap nilai k\n",
        "plt.plot(k_neighbors, test_accuracy, label=\"Testing Accuracy\", marker='o', linestyle='-')\n",
        "\n",
        "# Menambahkan judul pada grafik\n",
        "plt.title('KNN Model Accuracy')\n",
        "\n",
        "# Menambahkan label pada sumbu x\n",
        "plt.xlabel('Number of Neighbors (k)')\n",
        "\n",
        "# Menambahkan label pada sumbu y\n",
        "plt.ylabel('Accuracy')\n",
        "\n",
        "# Menambahkan legenda untuk membedakan garis pelatihan dan pengujian\n",
        "plt.legend()\n",
        "\n",
        "# Menambahkan grid pada grafik untuk memudahkan pembacaan\n",
        "plt.grid(True)\n",
        "\n",
        "# Menampilkan grafik\n",
        "plt.show()"
      ]
    },
    {
      "cell_type": "code",
      "execution_count": 75,
      "metadata": {
        "colab": {
          "base_uri": "https://localhost:8080/"
        },
        "id": "fMyuWBfed171",
        "outputId": "577d4beb-0e57-437a-b4bb-def01deecbff"
      },
      "outputs": [
        {
          "name": "stdout",
          "output_type": "stream",
          "text": [
            "KNN Train Accuracy: 100.00% with k = 1\n",
            "KNN Test Accuracy: 96.35% with k = 3\n"
          ]
        }
      ],
      "source": [
        "# Menentukan akurasi pelatihan tertinggi dari list train_accuracy\n",
        "max_train_accuracy = max(train_accuracy)\n",
        "\n",
        "# Mencari indeks dari akurasi pelatihan tertinggi tersebut\n",
        "max_train_index = train_accuracy.index(max_train_accuracy)\n",
        "\n",
        "# Menentukan nilai k terbaik untuk data pelatihan berdasarkan indeks yang ditemukan\n",
        "best_k_train = list(k_neighbors)[max_train_index]\n",
        "\n",
        "# Menentukan akurasi pengujian tertinggi dari list test_accuracy\n",
        "max_test_accuracy = max(test_accuracy)\n",
        "\n",
        "# Mencari indeks dari akurasi pengujian tertinggi tersebut\n",
        "max_test_index = test_accuracy.index(max_test_accuracy)\n",
        "\n",
        "# Menentukan nilai k terbaik untuk data pengujian berdasarkan indeks yang ditemukan\n",
        "best_k_test = list(k_neighbors)[max_test_index]\n",
        "\n",
        "# Mencetak hasil akurasi tertinggi pada data pelatihan dan nilai k yang sesuai\n",
        "print(\"KNN Train Accuracy: {:.2f}% with k = {}\".format(max_train_accuracy * 100, best_k_train))\n",
        "\n",
        "# Mencetak hasil akurasi tertinggi pada data pengujian dan nilai k yang sesuai\n",
        "print(\"KNN Test Accuracy: {:.2f}% with k = {}\".format(max_test_accuracy * 100, best_k_test))"
      ]
    },
    {
      "cell_type": "markdown",
      "metadata": {
        "id": "fIVeY7E7Xwex"
      },
      "source": [
        "9. EVALUASI MODEL"
      ]
    },
    {
      "cell_type": "code",
      "execution_count": 76,
      "metadata": {
        "colab": {
          "base_uri": "https://localhost:8080/"
        },
        "id": "M2BxwrYWU5WV",
        "outputId": "5bf33041-6019-4136-8132-680d86a734d3"
      },
      "outputs": [
        {
          "name": "stdout",
          "output_type": "stream",
          "text": [
            "Accuracy Score: 0.9635036496350365\n",
            "Classification Report:\n",
            "              precision    recall  f1-score   support\n",
            "\n",
            "           0       0.95      0.99      0.97        79\n",
            "           1       0.98      0.93      0.96        58\n",
            "\n",
            "    accuracy                           0.96       137\n",
            "   macro avg       0.97      0.96      0.96       137\n",
            "weighted avg       0.96      0.96      0.96       137\n",
            "\n",
            "Classification Report Imbalanced:\n",
            "                   pre       rec       spe        f1       geo       iba       sup\n",
            "\n",
            "          0       0.95      0.99      0.93      0.97      0.96      0.92        79\n",
            "          1       0.98      0.93      0.99      0.96      0.96      0.91        58\n",
            "\n",
            "avg / total       0.96      0.96      0.95      0.96      0.96      0.92       137\n",
            "\n"
          ]
        }
      ],
      "source": [
        "from sklearn.metrics import accuracy_score, classification_report\n",
        "from imblearn.metrics import classification_report_imbalanced\n",
        "\n",
        "\n",
        "# Evaluasi Kinerja\n",
        "print(f\"Accuracy Score: {accuracy_score(y_test, y_pred)}\")\n",
        "print(\"Classification Report:\")\n",
        "print(classification_report(y_test, y_pred))\n",
        "print(\"Classification Report Imbalanced:\")\n",
        "print(classification_report_imbalanced(y_test, y_pred))"
      ]
    },
    {
      "cell_type": "code",
      "execution_count": 77,
      "metadata": {
        "colab": {
          "base_uri": "https://localhost:8080/"
        },
        "id": "tofFsXucz0BJ",
        "outputId": "55bc9e8e-e881-4b50-89dc-fd115e188d42"
      },
      "outputs": [
        {
          "name": "stdout",
          "output_type": "stream",
          "text": [
            "[1]\n",
            "The tumor is Malignant\n"
          ]
        },
        {
          "name": "stderr",
          "output_type": "stream",
          "text": [
            "C:\\Users\\Asus\\AppData\\Local\\Packages\\PythonSoftwareFoundation.Python.3.11_qbz5n2kfra8p0\\LocalCache\\local-packages\\Python311\\site-packages\\sklearn\\base.py:439: UserWarning: X does not have valid feature names, but StandardScaler was fitted with feature names\n",
            "  warnings.warn(\n"
          ]
        }
      ],
      "source": [
        "# prompt: prediksi model input\n",
        "\n",
        "input_data = (8,10,10,8,7,10,9,7,1)\n",
        "\n",
        "# reshape the input data\n",
        "input_data_reshaped = np.reshape(input_data, (1, -1))\n",
        "\n",
        "# standardize the input data\n",
        "std_data = scaler.transform(input_data_reshaped)\n",
        "\n",
        "# predict the class\n",
        "prediction = model.predict(std_data)\n",
        "\n",
        "# print the prediction\n",
        "print(prediction)\n",
        "\n",
        "if (prediction[0] == 0):\n",
        "  print('The tumor is Benign ')\n",
        "else:\n",
        "  print('The tumor is Malignant')\n"
      ]
    },
    {
      "cell_type": "code",
      "execution_count": 78,
      "metadata": {
        "id": "gSAlEa-AD4bt"
      },
      "outputs": [],
      "source": [
        "# prompt: save model\n",
        "\n",
        "import pickle\n",
        "\n",
        "# Save the model to a file\n",
        "with open('breastcancer.sav', 'wb') as file:\n",
        "    pickle.dump(model, file)\n"
      ]
    }
  ],
  "metadata": {
    "colab": {
      "provenance": []
    },
    "kernelspec": {
      "display_name": "Python 3",
      "name": "python3"
    },
    "language_info": {
      "codemirror_mode": {
        "name": "ipython",
        "version": 3
      },
      "file_extension": ".py",
      "mimetype": "text/x-python",
      "name": "python",
      "nbconvert_exporter": "python",
      "pygments_lexer": "ipython3",
      "version": "3.11.9"
    }
  },
  "nbformat": 4,
  "nbformat_minor": 0
}
